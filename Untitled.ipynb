{
 "cells": [
  {
   "cell_type": "code",
   "execution_count": 1,
   "id": "6bafb890-24c5-4036-9cfd-4cce71f41093",
   "metadata": {},
   "outputs": [
    {
     "name": "stderr",
     "output_type": "stream",
     "text": [
      "/var/folders/dd/z5qxx2bx46l7_rqvvs45_ypc0000gn/T/ipykernel_94521/2053568672.py:4: DeprecationWarning: \n",
      "Pyarrow will become a required dependency of pandas in the next major release of pandas (pandas 3.0),\n",
      "(to allow more performant data types, such as the Arrow string type, and better interoperability with other libraries)\n",
      "but was not found to be installed on your system.\n",
      "If this would cause problems for you,\n",
      "please provide us feedback at https://github.com/pandas-dev/pandas/issues/54466\n",
      "        \n",
      "  import pandas as pd\n"
     ]
    }
   ],
   "source": [
    "import matplotlib.pyplot as plt \n",
    "import numpy as np \n",
    "import matplotlib as mpl \n",
    "import pandas as pd"
   ]
  },
  {
   "cell_type": "code",
   "execution_count": 2,
   "id": "d5ee8cc4-c4e3-40dd-b0d0-9bcada160c1c",
   "metadata": {},
   "outputs": [],
   "source": [
    "data=[\n",
    "            {\n",
    "                \"precision\": 0.5889354944229126,\n",
    "                \"recall\": 0.7650378942489624,\n",
    "                \"f1\": 0.6655344367027283,\n",
    "                \"hashcode\": \"/Users/dmcherka/Work/huggingface/bert-base-multilingual-cased_L9_no-idf_version=0.3.12(hug_trans=4.38.1)\",\n",
    "                \"prompts\": \"<s>[INST] Summarize this dialog: \\n\\nHannah: Hey, do you have Betty's number?\\nAmanda: Lemme check\\nHannah: <file_gif>\\nAmanda: Sorry, can't find it.\\nAmanda: Ask Larry\\nAmanda: He called her last time we were at the park together\\nHannah: I don't know him well\\nHannah: <file_gif>\\nAmanda: Don't be shy, he's very nice\\nHannah: If you say so..\\nHannah: I'd rather you texted him\\nAmanda: Just text him \\ud83d\\ude42\\nHannah: Urgh.. Alright\\nHannah: Bye\\nAmanda: Bye bye\\n---\\nSummary:[/INST]\",\n",
    "                \"references\": \"Hannah needs Betty's number but Amanda doesn't have it. She needs to contact Larry.\",\n",
    "                \"responses\": \"<s>[INST] Summarize this dialog: \\n\\nHannah: Hey, do you have Betty's number?\\nAmanda: Lemme check\\nHannah: <file_gif>\\nAmanda: Sorry, can't find it.\\nAmanda: Ask Larry\\nAmanda: He called her last time we were at the park together\\nHannah: I don't know him well\\nHannah: <file_gif>\\nAmanda: Don't be shy, he's very nice\\nHannah: If you say so..\\nHannah: I'd rather you texted him\\nAmanda: Just text him \\ud83d\\ude42\\nHannah: Urgh.. Alright\\nHannah: Bye\\nAmanda: Bye bye\\n---\\nSummary:[/INST] Hannah asks Amanda if she has Betty's number. Amanda checks and cannot find it. She suggests that Hannah ask Larry, who called Betty last time they were at the park together. Hannah is hesitant to ask Larry, but Amanda encourages her to be friendly and text him. Hannah agrees and sends a text.\",\n",
    "                \"categories\": \"type1\"\n",
    "            },\n",
    "            {\n",
    "                \"precision\": 0.6195148229598999,\n",
    "                \"recall\": 0.7398744225502014,\n",
    "                \"f1\": 0.674366295337677,\n",
    "                \"hashcode\": \"/Users/dmcherka/Work/huggingface/bert-base-multilingual-cased_L9_no-idf_version=0.3.12(hug_trans=4.38.1)\",\n",
    "                \"prompts\": \"<s>[INST] Summarize this dialog: \\n\\nLenny: Babe, can you help me with something?\\r\\nBob: Sure, what's up?\\r\\nLenny: Which one should I pick?\\r\\nBob: Send me photos\\r\\nLenny:  <file_photo>\\r\\nLenny:  <file_photo>\\r\\nLenny:  <file_photo>\\r\\nBob: I like the first ones best\\r\\nLenny: But I already have purple trousers. Does it make sense to have two pairs?\\r\\nBob: I have four black pairs :D :D\\r\\nLenny: yeah, but shouldn't I pick a different color?\\r\\nBob: what matters is what you'll give you the most outfit options\\r\\nLenny: So I guess I'll buy the first or the third pair then\\r\\nBob: Pick the best quality then\\r\\nLenny: ur right, thx\\r\\nBob: no prob :)\\n---\\nSummary:[/INST]\",\n",
    "                \"references\": \"Lenny can't decide which trousers to buy. Bob advised Lenny on that topic. Lenny goes with Bob's advice to pick the trousers that are of best quality.\",\n",
    "                \"responses\": \"<s>[INST] Summarize this dialog: \\n\\nLenny: Babe, can you help me with something?\\r\\nBob: Sure, what's up?\\r\\nLenny: Which one should I pick?\\r\\nBob: Send me photos\\r\\nLenny:  <file_photo>\\r\\nLenny:  <file_photo>\\r\\nLenny:  <file_photo>\\r\\nBob: I like the first ones best\\r\\nLenny: But I already have purple trousers. Does it make sense to have two pairs?\\r\\nBob: I have four black pairs :D :D\\r\\nLenny: yeah, but shouldn't I pick a different color?\\r\\nBob: what matters is what you'll give you the most outfit options\\r\\nLenny: So I guess I'll buy the first or the third pair then\\r\\nBob: Pick the best quality then\\r\\nLenny: ur right, thx\\r\\nBob: no prob :)\\n---\\nSummary:[/INST] Lenny is asking Bob for help in choosing between three pairs of pants. Bob suggests that Lenny send him photos of the pants so he can see them better. Lenny sends three photos, and Bob says he likes the first ones best. Lenny is hesitant to buy two pairs of pants in the same color, but Bob reassures him that having more options is more important. Lenny decides to buy either the first or the third pair, and Bob advises him to choose the best quality.\",\n",
    "                \"categories\": \"type1\"\n",
    "            },\n",
    "            {\n",
    "                \"precision\": 0.5330758094787598,\n",
    "                \"recall\": 0.7663807272911072,\n",
    "                \"f1\": 0.6287844181060791,\n",
    "                \"hashcode\": \"/Users/dmcherka/Work/huggingface/bert-base-multilingual-cased_L9_no-idf_version=0.3.12(hug_trans=4.38.1)\",\n",
    "                \"prompts\": \"<s>[INST] Summarize this dialog: \\n\\nEric: MACHINE!\\r\\nRob: That's so gr8!\\r\\nEric: I know! And shows how Americans see Russian ;)\\r\\nRob: And it's really funny!\\r\\nEric: I know! I especially like the train part!\\r\\nRob: Hahaha! No one talks to the machine like that!\\r\\nEric: Is this his only stand-up?\\r\\nRob: Idk. I'll check.\\r\\nEric: Sure.\\r\\nRob: Turns out no! There are some of his stand-ups on youtube.\\r\\nEric: Gr8! I'll watch them now!\\r\\nRob: Me too!\\r\\nEric: MACHINE!\\r\\nRob: MACHINE!\\r\\nEric: TTYL?\\r\\nRob: Sure :)\\n---\\nSummary:[/INST]\",\n",
    "                \"references\": \"Eric and Rob are going to watch a stand-up on youtube.\",\n",
    "                \"responses\": \"<s>[INST] Summarize this dialog: \\n\\nEric: MACHINE!\\r\\nRob: That's so gr8!\\r\\nEric: I know! And shows how Americans see Russian ;)\\r\\nRob: And it's really funny!\\r\\nEric: I know! I especially like the train part!\\r\\nRob: Hahaha! No one talks to the machine like that!\\r\\nEric: Is this his only stand-up?\\r\\nRob: Idk. I'll check.\\r\\nEric: Sure.\\r\\nRob: Turns out no! There are some of his stand-ups on youtube.\\r\\nEric: Gr8! I'll watch them now!\\r\\nRob: Me too!\\r\\nEric: MACHINE!\\r\\nRob: MACHINE!\\r\\nEric: TTYL?\\r\\nRob: Sure :)\\n---\\nSummary:[/INST] Eric and Rob are discussing a stand-up routine by a comedian named \\\"Machine.\\\" Eric finds the routine to be funny and especially enjoys the train part. Rob agrees and notes that no one talks to machines the way Machine does in his routine. Eric asks if this is Machine's only stand-up routine, and Rob checks and finds that there are more of his routines available on YouTube. Eric and Rob both plan to watch them. Eric ends the conversation by saying \\\"MACHINE!\\\" and Rob responds with the same.\",\n",
    "                \"categories\": \"type2\"\n",
    "            }\n",
    "        ]"
   ]
  },
  {
   "cell_type": "code",
   "execution_count": 3,
   "id": "ddd9c32f-5675-4e10-91e8-09dd8b97d6a0",
   "metadata": {},
   "outputs": [
    {
     "data": {
      "text/html": [
       "<div>\n",
       "<style scoped>\n",
       "    .dataframe tbody tr th:only-of-type {\n",
       "        vertical-align: middle;\n",
       "    }\n",
       "\n",
       "    .dataframe tbody tr th {\n",
       "        vertical-align: top;\n",
       "    }\n",
       "\n",
       "    .dataframe thead th {\n",
       "        text-align: right;\n",
       "    }\n",
       "</style>\n",
       "<table border=\"1\" class=\"dataframe\">\n",
       "  <thead>\n",
       "    <tr style=\"text-align: right;\">\n",
       "      <th></th>\n",
       "      <th>precision</th>\n",
       "      <th>recall</th>\n",
       "      <th>f1</th>\n",
       "      <th>hashcode</th>\n",
       "      <th>prompts</th>\n",
       "      <th>references</th>\n",
       "      <th>responses</th>\n",
       "      <th>categories</th>\n",
       "    </tr>\n",
       "  </thead>\n",
       "  <tbody>\n",
       "    <tr>\n",
       "      <th>0</th>\n",
       "      <td>0.588935</td>\n",
       "      <td>0.765038</td>\n",
       "      <td>0.665534</td>\n",
       "      <td>/Users/dmcherka/Work/huggingface/bert-base-mul...</td>\n",
       "      <td>&lt;s&gt;[INST] Summarize this dialog: \\n\\nHannah: H...</td>\n",
       "      <td>Hannah needs Betty's number but Amanda doesn't...</td>\n",
       "      <td>&lt;s&gt;[INST] Summarize this dialog: \\n\\nHannah: H...</td>\n",
       "      <td>type1</td>\n",
       "    </tr>\n",
       "    <tr>\n",
       "      <th>1</th>\n",
       "      <td>0.619515</td>\n",
       "      <td>0.739874</td>\n",
       "      <td>0.674366</td>\n",
       "      <td>/Users/dmcherka/Work/huggingface/bert-base-mul...</td>\n",
       "      <td>&lt;s&gt;[INST] Summarize this dialog: \\n\\nLenny: Ba...</td>\n",
       "      <td>Lenny can't decide which trousers to buy. Bob ...</td>\n",
       "      <td>&lt;s&gt;[INST] Summarize this dialog: \\n\\nLenny: Ba...</td>\n",
       "      <td>type1</td>\n",
       "    </tr>\n",
       "    <tr>\n",
       "      <th>2</th>\n",
       "      <td>0.533076</td>\n",
       "      <td>0.766381</td>\n",
       "      <td>0.628784</td>\n",
       "      <td>/Users/dmcherka/Work/huggingface/bert-base-mul...</td>\n",
       "      <td>&lt;s&gt;[INST] Summarize this dialog: \\n\\nEric: MAC...</td>\n",
       "      <td>Eric and Rob are going to watch a stand-up on ...</td>\n",
       "      <td>&lt;s&gt;[INST] Summarize this dialog: \\n\\nEric: MAC...</td>\n",
       "      <td>type2</td>\n",
       "    </tr>\n",
       "  </tbody>\n",
       "</table>\n",
       "</div>"
      ],
      "text/plain": [
       "   precision    recall        f1  \\\n",
       "0   0.588935  0.765038  0.665534   \n",
       "1   0.619515  0.739874  0.674366   \n",
       "2   0.533076  0.766381  0.628784   \n",
       "\n",
       "                                            hashcode  \\\n",
       "0  /Users/dmcherka/Work/huggingface/bert-base-mul...   \n",
       "1  /Users/dmcherka/Work/huggingface/bert-base-mul...   \n",
       "2  /Users/dmcherka/Work/huggingface/bert-base-mul...   \n",
       "\n",
       "                                             prompts  \\\n",
       "0  <s>[INST] Summarize this dialog: \\n\\nHannah: H...   \n",
       "1  <s>[INST] Summarize this dialog: \\n\\nLenny: Ba...   \n",
       "2  <s>[INST] Summarize this dialog: \\n\\nEric: MAC...   \n",
       "\n",
       "                                          references  \\\n",
       "0  Hannah needs Betty's number but Amanda doesn't...   \n",
       "1  Lenny can't decide which trousers to buy. Bob ...   \n",
       "2  Eric and Rob are going to watch a stand-up on ...   \n",
       "\n",
       "                                           responses categories  \n",
       "0  <s>[INST] Summarize this dialog: \\n\\nHannah: H...      type1  \n",
       "1  <s>[INST] Summarize this dialog: \\n\\nLenny: Ba...      type1  \n",
       "2  <s>[INST] Summarize this dialog: \\n\\nEric: MAC...      type2  "
      ]
     },
     "execution_count": 3,
     "metadata": {},
     "output_type": "execute_result"
    }
   ],
   "source": [
    "df_results = pd.DataFrame(data)\n",
    "df_results"
   ]
  },
  {
   "cell_type": "code",
   "execution_count": 5,
   "id": "2c3f70d0-9208-4ebf-b227-bfbebde4a6f9",
   "metadata": {},
   "outputs": [
    {
     "data": {
      "text/plain": [
       "<Axes: title={'center': 'f1'}, xlabel='categories'>"
      ]
     },
     "execution_count": 5,
     "metadata": {},
     "output_type": "execute_result"
    },
    {
     "data": {
      "image/png": "[encoded data removed]",
      "text/plain": [
       "<Figure size 640x480 with 1 Axes>"
      ]
     },
     "metadata": {},
     "output_type": "display_data"
    }
   ],
   "source": [
    "df_results.boxplot(column='f1', by='categories')"
   ]
  }
 ],
 "metadata": {
  "kernelspec": {
   "display_name": "cad",
   "language": "python",
   "name": "cad"
  },
  "language_info": {
   "codemirror_mode": {
    "name": "ipython",
    "version": 3
   },
   "file_extension": ".py",
   "mimetype": "text/x-python",
   "name": "python",
   "nbconvert_exporter": "python",
   "pygments_lexer": "ipython3",
   "version": "3.9.15"
  }
 },
 "nbformat": 4,
 "nbformat_minor": 5
}
